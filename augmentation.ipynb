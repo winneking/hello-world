{
  "nbformat": 4,
  "nbformat_minor": 0,
  "metadata": {
    "colab": {
      "name": "augmentation.ipynb",
      "version": "0.3.2",
      "provenance": [],
      "include_colab_link": true
    },
    "kernelspec": {
      "name": "python2",
      "display_name": "Python 2"
    }
  },
  "cells": [
    {
      "cell_type": "markdown",
      "metadata": {
        "id": "view-in-github",
        "colab_type": "text"
      },
      "source": [
        "<a href=\"https://colab.research.google.com/github/winneking/hello-world/blob/master/augmentation.ipynb\" target=\"_parent\"><img src=\"https://colab.research.google.com/assets/colab-badge.svg\" alt=\"Open In Colab\"/></a>"
      ]
    },
    {
      "metadata": {
        "id": "WtDRc1Rolo87",
        "colab_type": "code",
        "colab": {}
      },
      "cell_type": "code",
      "source": [
        "import numpy as np\n",
        "import cv2\n",
        "import os\n",
        "import math\n",
        "import h5py as h5py\n"
      ],
      "execution_count": 0,
      "outputs": []
    },
    {
      "metadata": {
        "id": "dKmCILQfm9FN",
        "colab_type": "code",
        "colab": {}
      },
      "cell_type": "code",
      "source": [
        "!apt-get -qq install -y graphviz && pip install -q pydot\n",
        "import pydot\n",
        "import matplotlib.pyplot as plt\n",
        "from keras.utils.vis_utils import plot_model\n",
        "from IPython.display import Image\n",
        "\n",
        "from keras.utils.data_utils import get_file\n",
        "from keras.models import Sequential, Model\n",
        "from keras.layers import Input,Dense,Dropout,Flatten\n",
        "from keras.layers.convolutional import Conv2D,MaxPooling2D\n",
        "from kera.applications.vgg16 import VGG16\n",
        "from keras.optimizers import SGD\n",
        "\n",
        "from keras.preprocessing.image import ImageDataGernerator\n",
        "from keras.preprocessing import image\n",
        "\n",
        "RATIO = 0.2\n",
        "\n",
        "NUM_DENSE = 5\n",
        "\n",
        "epochs = 1\n",
        "\n",
        "ishape=48\n",
        "\n",
        "def tran_y(y):\n",
        "    y_ohe = np.zeros(NUM_DENSE)\n",
        "    y_ohe[y] = 1\n",
        "    return y_ohe\n",
        "  \n",
        "print('download vgg Model')\n",
        "\n",
        "model_vgg = VGG16(include_top = False, weights = 'imagenet',input_shape = (ishape,ishape, 3))\n",
        "\n",
        "for layer in model_vgg.layers:\n",
        "          layer.trainable = False\n",
        "model = Flatten()(model_vgg.output)\n",
        "model = Dense(4096, activation='relu',name='fc1')(model)\n",
        "model = Dense(4096, activation='relu',name='fc2')(model)\n",
        "model = Dropout(0.5)(model)\n",
        "model = Dense(NUM_DENSE,activation = 'softmax', name= 'prediction')(model)\n",
        "model_vgg_pretrain = Model(model_vgg.input, model, name = 'vgg16_pretrain')\n",
        "\n",
        "print('Model compile')\n",
        "\n",
        "sgd = SGD(lr = 0.05, decay = 1e-5)\n",
        "model_vgg_pretrain.compile(loss = 'categorical_crossentropy', optimizer = sgd, metrics = ['accuracy'])\n"
      ],
      "execution_count": 0,
      "outputs": []
    }
  ]
}